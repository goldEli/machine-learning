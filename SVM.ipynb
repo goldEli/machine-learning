{
 "cells": [
  {
   "cell_type": "markdown",
   "metadata": {},
   "source": [
    "# SVM 支持向量机\n",
    "\n",
    "一种有监督学习\n",
    "\n",
    "分类，间隔最大化\n",
    "\n",
    "非线性 non-linear 决策边界\n",
    "\n",
    "**outlier** \n",
    "当存在异常值时，去掉异常值进行分类\n",
    "\n",
    "**add features**\n",
    "特征 x 和 y\n",
    "当x和y的决策面是非线性的\n",
    "在 z 方向新增特征（x^2 + y^2）\n",
    "新增特征，让SVM学习圆形的非线性决策面\n",
    "(新增特征方法很多，也可能是x或者y的绝对值 |x| |y|)\n",
    "\n",
    "**kernel trick**\n",
    "\n",
    "**over fitting**\n",
    "\n",
    "c 参数控制过拟合\n",
    "\n",
    "**缺点**\n",
    "\n",
    "1. 当数据量巨大，训练时间与数据量的三次方成正比，导致 SVM 训练时间过长\n",
    "2. 当数据噪声过大，SVM 会导致过拟合，如果类之间重合较多，且需要将不同的类分隔开来，那么朴素贝叶斯更有效\n",
    "\n"
   ]
  },
  {
   "cell_type": "markdown",
   "metadata": {},
   "source": [
    "## basic"
   ]
  },
  {
   "cell_type": "code",
   "execution_count": 1,
   "metadata": {},
   "outputs": [
    {
     "data": {
      "text/plain": [
       "SVC(C=1.0, cache_size=200, class_weight=None, coef0=0.0,\n",
       "  decision_function_shape='ovr', degree=3, gamma='auto', kernel='rbf',\n",
       "  max_iter=-1, probability=False, random_state=None, shrinking=True,\n",
       "  tol=0.001, verbose=False)"
      ]
     },
     "execution_count": 1,
     "metadata": {},
     "output_type": "execute_result"
    }
   ],
   "source": [
    "from sklearn import svm\n",
    "# traning features 训练特征列\n",
    "x = [[0,0], [1,1]]\n",
    "# traning labels 训练标签列\n",
    "y = [0,1]\n",
    "# 创建分类器 classifier\n",
    "clf = svm.SVC()\n",
    "# 使用训练特性和训练标签进行拟合\n",
    "# fitting 拟合：通过一条线将平面上的点连接起来\n",
    "# overfitting 过拟合：过拟合往往会出现在数据量较小的时候\n",
    "# 在朴树贝叶斯的拟合先是 curve，在 svm 拟合线是 straight line，这条线会在决策边缘与任何未分类的点之间提供最大间距\n",
    "clf.fit(x, y)"
   ]
  },
  {
   "cell_type": "code",
   "execution_count": 3,
   "metadata": {},
   "outputs": [
    {
     "name": "stdout",
     "output_type": "stream",
     "text": [
      "[1]\n"
     ]
    }
   ],
   "source": [
    "# 预测\n",
    "print(clf.predict([[2, 2]]))"
   ]
  },
  {
   "cell_type": "code",
   "execution_count": null,
   "metadata": {},
   "outputs": [],
   "source": []
  }
 ],
 "metadata": {
  "kernelspec": {
   "display_name": "Python 3",
   "language": "python",
   "name": "python3"
  },
  "language_info": {
   "codemirror_mode": {
    "name": "ipython",
    "version": 3
   },
   "file_extension": ".py",
   "mimetype": "text/x-python",
   "name": "python",
   "nbconvert_exporter": "python",
   "pygments_lexer": "ipython3",
   "version": "3.7.0"
  }
 },
 "nbformat": 4,
 "nbformat_minor": 2
}
